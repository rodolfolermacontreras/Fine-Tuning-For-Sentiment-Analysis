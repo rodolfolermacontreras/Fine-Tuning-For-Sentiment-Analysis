{
 "cells": [
  {
   "cell_type": "code",
   "execution_count": 1,
   "metadata": {},
   "outputs": [
    {
     "name": "stdout",
     "output_type": "stream",
     "text": [
      "CSV file saved at Final_Label_Data.csv\n"
     ]
    }
   ],
   "source": [
    "import pandas as pd\n",
    "import json\n",
    "\n",
    "# Define the path to the json file\n",
    "file_path = 'Final_Label.ndjson'\n",
    "\n",
    "# Read the json file line by line and convert each line to a dictionary\n",
    "data = []\n",
    "with open(file_path, 'r') as f:\n",
    "    for line in f:\n",
    "        data.append(json.loads(line))\n",
    "\n",
    "# Normalize the semi-structured JSON data into a flat table\n",
    "df_flattened = pd.json_normalize(data)\n",
    "\n",
    "# Function to extract the value for each 'name' under 'classifications'\n",
    "def extract_value(classifications, name):\n",
    "    for classification in classifications:\n",
    "        if classification['name'] == name:\n",
    "            return classification['radio_answer']['name']\n",
    "    return None\n",
    "\n",
    "# New columns to be added based on 'name' in 'classifications'\n",
    "new_columns = {\n",
    "    'In-calls Only or Not': [],\n",
    "    '24/7 Service or Not': [],\n",
    "    'Derogatory Language towards Provider or Not': [],\n",
    "    'Massage Parlor/Asian Agency or Not': [],\n",
    "    'Multiple People or Not': []\n",
    "}\n",
    "\n",
    "# Extract data for new columns\n",
    "for record in data:\n",
    "    for name in new_columns.keys():\n",
    "        value = extract_value(record['projects']['clsqaik7009uu07wselyi44w5']['labels'][0]['annotations']['classifications'], name)\n",
    "        new_columns[name].append(value)\n",
    "\n",
    "# Add new columns to the DataFrame\n",
    "for name, values in new_columns.items():\n",
    "    df_flattened[name] = values\n",
    "\n",
    "# Save the DataFrame to a CSV file\n",
    "output_csv_path = 'Final_Label_Data.csv'\n",
    "df_flattened.to_csv(output_csv_path, index=False)\n",
    "\n",
    "# Provide feedback that the file has been saved\n",
    "print(f'CSV file saved at {output_csv_path}')"
   ]
  }
 ],
 "metadata": {
  "kernelspec": {
   "display_name": ".venv",
   "language": "python",
   "name": "python3"
  },
  "language_info": {
   "codemirror_mode": {
    "name": "ipython",
    "version": 3
   },
   "file_extension": ".py",
   "mimetype": "text/x-python",
   "name": "python",
   "nbconvert_exporter": "python",
   "pygments_lexer": "ipython3",
   "version": "3.10.8"
  },
  "orig_nbformat": 4
 },
 "nbformat": 4,
 "nbformat_minor": 2
}
